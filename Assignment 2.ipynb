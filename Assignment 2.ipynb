{
 "cells": [
  {
   "cell_type": "markdown",
   "metadata": {},
   "source": [
    "# Task 1"
   ]
  },
  {
   "cell_type": "markdown",
   "metadata": {},
   "source": [
    "## 1.1 Write a Python Program to implement your own myreduce() function which works exactly like Python's built-in function reduce()"
   ]
  },
  {
   "cell_type": "code",
   "execution_count": 19,
   "metadata": {},
   "outputs": [
    {
     "name": "stdout",
     "output_type": "stream",
     "text": [
      "reduce O/P : 55\n",
      "myreduce O/P : 55\n"
     ]
    }
   ],
   "source": [
    "from functools import reduce\n",
    "def myreduce(lst):\n",
    "    total=0\n",
    "    for i in range(len(lst)):\n",
    "        total=total+lst[i]\n",
    "    return total\n",
    "    \n",
    "l = [1,2,3,4,5,6,7,8,9,10]\n",
    "print(\"reduce O/P : \" + str(reduce(lambda a,b:a+b, l)))\n",
    "print(\"myreduce O/P : \" + str(myreduce(l)))"
   ]
  },
  {
   "cell_type": "markdown",
   "metadata": {},
   "source": [
    "## 1.2 Write a Python program to implement your own myfilter() function which works exactly like Python's built-in function filter()"
   ]
  },
  {
   "cell_type": "code",
   "execution_count": 28,
   "metadata": {},
   "outputs": [
    {
     "name": "stdout",
     "output_type": "stream",
     "text": [
      "filter O/P : [2, 4, 6, 8, 10, 12, 14, 160]\n",
      "filter O/P : [2, 4, 6, 8, 10, 12, 14, 160]\n"
     ]
    }
   ],
   "source": [
    "l = [1,2,3,4,5,6,7,8,9,10,11,12,13,14,15,160]\n",
    "def is_even(i):\n",
    "    if i%2 == 0:\n",
    "        return True\n",
    "def myfilter(l):\n",
    "    lst=[]\n",
    "    for i in range(len(l)):\n",
    "        if l[i]%2 == 0:\n",
    "            lst.append(l[i])\n",
    "    return lst\n",
    "print(\"filter O/P : \" + str(list(filter(is_even,l))))\n",
    "print(\"filter O/P : \" + str(list(myfilter(l))))"
   ]
  },
  {
   "cell_type": "markdown",
   "metadata": {},
   "source": [
    "# 2. Implement List comprehensions to produce the following lists.\n",
    "Write List comprehensions to produce the following Lists\n",
    "['A', 'C', 'A', 'D', 'G', 'I', ’L’, ‘ D’]\n",
    "['x', 'xx', 'xxx', 'xxxx', 'y', 'yy', 'yyy', 'yyyy', 'z', 'zz', 'zzz', 'zzzz']\n",
    "['x', 'y', 'z', 'xx', 'yy', 'zz', 'xx', 'yy', 'zz', 'xxxx', 'yyyy', 'zzzz']\n",
    "[[2], [3], [4], [3], [4], [5], [4], [5], [6]]\n",
    "[[2, 3, 4, 5], [3, 4, 5, 6], [4, 5, 6, 7], [5, 6, 7, 8]]\n",
    "[(1, 1), (2, 1), (3, 1), (1, 2), (2, 2), (3, 2), (1, 3), (2, 3), (3, 3)]"
   ]
  },
  {
   "cell_type": "code",
   "execution_count": 30,
   "metadata": {},
   "outputs": [
    {
     "data": {
      "text/plain": [
       "['A', 'C', 'A', 'D', 'G', 'I', 'L', 'D']"
      ]
     },
     "execution_count": 30,
     "metadata": {},
     "output_type": "execute_result"
    }
   ],
   "source": [
    "str1 = 'ACADGILD'\n",
    "lst1 = [x for x in str1]\n",
    "lst1"
   ]
  },
  {
   "cell_type": "code",
   "execution_count": 38,
   "metadata": {},
   "outputs": [
    {
     "data": {
      "text/plain": [
       "['x', 'xx', 'xxx', 'xxxx', 'y', 'yy', 'yyy', 'yyyy', 'z', 'zz', 'zzz', 'zzzz']"
      ]
     },
     "execution_count": 38,
     "metadata": {},
     "output_type": "execute_result"
    }
   ],
   "source": [
    "lst2 = ['x'*(i+1) for i in range(4)] + ['y'*(i+1) for i in range(4)] + ['z'*(i+1) for i in range(4)]\n",
    "lst2"
   ]
  },
  {
   "cell_type": "code",
   "execution_count": 73,
   "metadata": {},
   "outputs": [
    {
     "data": {
      "text/plain": [
       "[['x', 'y', 'z'],\n",
       " ['xx', 'yy', 'zz'],\n",
       " ['xxx', 'yyy', 'zzz'],\n",
       " ['xxxx', 'yyyy', 'zzzz']]"
      ]
     },
     "execution_count": 73,
     "metadata": {},
     "output_type": "execute_result"
    }
   ],
   "source": [
    "lst3 = [['x'*(i+1) , 'y'*(i+1) , 'z'*(i+1)] for i in range(4)]\n",
    "lst3"
   ]
  },
  {
   "cell_type": "code",
   "execution_count": 93,
   "metadata": {},
   "outputs": [
    {
     "data": {
      "text/plain": [
       "[[2], [3], [4], [3], [4], [5], [4], [5], [6]]"
      ]
     },
     "execution_count": 93,
     "metadata": {},
     "output_type": "execute_result"
    }
   ],
   "source": [
    "lst4 = [[i+j] for i in range(2,5) for j in range(3)]\n",
    "lst4"
   ]
  },
  {
   "cell_type": "code",
   "execution_count": 81,
   "metadata": {},
   "outputs": [
    {
     "data": {
      "text/plain": [
       "[[2, 3, 4, 5], [3, 4, 5, 6], [4, 5, 6, 7], [5, 6, 7, 8]]"
      ]
     },
     "execution_count": 81,
     "metadata": {},
     "output_type": "execute_result"
    }
   ],
   "source": [
    "lst5 = [[i+2,i+3,i+4,i+5] for i in range(4)]\n",
    "lst5"
   ]
  },
  {
   "cell_type": "code",
   "execution_count": 90,
   "metadata": {},
   "outputs": [
    {
     "data": {
      "text/plain": [
       "[(1, 1), (2, 1), (3, 1), (1, 2), (2, 2), (3, 2), (1, 3), (2, 3), (3, 3)]"
      ]
     },
     "execution_count": 90,
     "metadata": {},
     "output_type": "execute_result"
    }
   ],
   "source": [
    "lst6 = [(j,i) for i in range(1,4) for j in range(1,4)]\n",
    "lst6"
   ]
  },
  {
   "cell_type": "markdown",
   "metadata": {},
   "source": [
    "## 3. Implement a function longestWord() that takes a list of words and returns the longest one."
   ]
  },
  {
   "cell_type": "code",
   "execution_count": 111,
   "metadata": {},
   "outputs": [
    {
     "name": "stdout",
     "output_type": "stream",
     "text": [
      "Longest word in the provides list is  : horse\n",
      "Having length : 5\n"
     ]
    }
   ],
   "source": [
    "wordlst = ['a','an','the','horse','cat','b']\n",
    "def longestWord(lst):\n",
    "    len_chk = 0\n",
    "    for i in lst:\n",
    "        if len_chk < len(i):\n",
    "            len_chk = len(i)\n",
    "            max_len_word = i\n",
    "    print(\"Longest word in the provides list is  : \" + max_len_word + \"\\nHaving length : \" + str(len_chk))\n",
    "        \n",
    "longestWord(wordlst)"
   ]
  },
  {
   "cell_type": "markdown",
   "metadata": {},
   "source": [
    "# Task 2"
   ]
  },
  {
   "cell_type": "markdown",
   "metadata": {},
   "source": [
    "## 1.1 Write a Python Program(with class concepts) to find the area of the triangle using the below formula. area = (s*(s-a)*(s-b)*(s-c)) ** 0.5  Function to take the length of the sides of triangle from user should be defined in the parent class and function to calculate the area should be defined in subclass."
   ]
  },
  {
   "cell_type": "code",
   "execution_count": 14,
   "metadata": {},
   "outputs": [
    {
     "name": "stdout",
     "output_type": "stream",
     "text": [
      "Enter triangle one side length : 6\n",
      "Enter triangle 2nd side length : 7\n",
      "Enter triangle 3rd side length : 8\n",
      "Side (s) : 10.5\n",
      "Area of triangle for given sides is : 20.33316256758894\n",
      "Area calculation Completed\n"
     ]
    }
   ],
   "source": [
    "import traceback\n",
    "\n",
    "class Triangle:\n",
    "    def __init__(self, a, b, c):\n",
    "        self.a = a\n",
    "        self.b = b\n",
    "        self.c = c\n",
    "        \n",
    "class Area(Triangle):\n",
    "    def __init__(self, *args):\n",
    "        super(Triangle, self).__init__(*args)\n",
    "\n",
    "    def calc_side(self,a,b,c):\n",
    "        s = (a+b+c)/2\n",
    "        print(\"Side (s) : \" + str(s))\n",
    "        return s\n",
    "    \n",
    "    def calc_area(self,s,a,b,c):\n",
    "        area = (s*(s-a)*(s-b)*(s-c))**0.5\n",
    "        print(\"Area of triangle for given sides is : \" + str(area))\n",
    "        \n",
    "def main():\n",
    "    try:\n",
    "        a = int(input(\"Enter triangle one side length : \"))\n",
    "        b = int(input(\"Enter triangle 2nd side length : \"))\n",
    "        c = int(input(\"Enter triangle 3rd side length : \"))\n",
    "        triangle_obj = Triangle(a,b,c)\n",
    "        area = Area()\n",
    "        side = area.calc_side(a,b,c)\n",
    "        area.calc_area(side,a,b,c)\n",
    "    except Exception as e:\n",
    "        print(\"Code thrown error : \" +str(e))\n",
    "        traceback.print_exc(limit=None, file=None, chain=True)\n",
    "    finally:\n",
    "        print(\"Area calculation Completed\")\n",
    "        \n",
    "main()"
   ]
  },
  {
   "cell_type": "markdown",
   "metadata": {},
   "source": [
    "## 1.2 Write a function filter_long_words() that takes a list of words and an integer n and returns the list of words that are longer than n."
   ]
  },
  {
   "cell_type": "code",
   "execution_count": 5,
   "metadata": {},
   "outputs": [
    {
     "name": "stdout",
     "output_type": "stream",
     "text": [
      "Enter Comma separted words : afrrqwr,123234,12,afasf,123456,\n",
      "Enter Max lenght of words to be filtered : 2\n",
      "Filtered words > enter length : ['afrrqwr', '123234', 'afasf', '123456']\n"
     ]
    }
   ],
   "source": [
    "def filter_long_words(list, num):\n",
    "    filtered_long_words = []\n",
    "    for i in list:\n",
    "        if len(i) > num:\n",
    "            filtered_long_words.append(i)\n",
    "        else:\n",
    "            continue\n",
    "    print(\"Filtered words > enter length : \" + str(filtered_long_words))\n",
    "    \n",
    "str_inp = str(input(\"Enter Comma separted words : \"))\n",
    "num = int(input(\"Enter Max lenght of words to be filtered : \"))\n",
    "\n",
    "str_list = str_inp.split(\",\")\n",
    "    \n",
    "filter_long_words(str_list, num)"
   ]
  },
  {
   "cell_type": "markdown",
   "metadata": {},
   "source": [
    "## 2.1 Write a Python program using function concept that maps list of words into a list of integers representing the lengths of the corresponding words ."
   ]
  },
  {
   "cell_type": "code",
   "execution_count": 9,
   "metadata": {},
   "outputs": [
    {
     "name": "stdout",
     "output_type": "stream",
     "text": [
      "Enter Comma seperated Words : uhg,asghahgoag,shdgoshgop,12345678\n",
      "[3, 10, 10, 8]\n"
     ]
    }
   ],
   "source": [
    "def return_str_lengths(str1_inp):\n",
    "    str1_list = str1_inp.split(\",\")\n",
    "    str1_list_op = list(map(lambda x:len(x), str1_list))\n",
    "    print(str1_list_op)\n",
    "    \n",
    "str1_inp = str(input(\"Enter Comma seperated Words : \"))\n",
    "return_str_lengths(str1_inp)"
   ]
  },
  {
   "cell_type": "markdown",
   "metadata": {},
   "source": [
    "## 2.2 Write a Python function which takes a character (i.e. a string of length 1) and returns True if it is a vowel, False otherwise."
   ]
  },
  {
   "cell_type": "code",
   "execution_count": 22,
   "metadata": {},
   "outputs": [
    {
     "name": "stdout",
     "output_type": "stream",
     "text": [
      "Enter a charecter : A\n",
      "True\n"
     ]
    }
   ],
   "source": [
    "def return_flag(str2_inp):\n",
    "    if len(str2_inp) == 1:\n",
    "        if str2_inp.upper() in (\"A\",\"E\",\"I\",\"O\",\"U\"):\n",
    "            print(\"True\")\n",
    "        else:\n",
    "            print(\"False\")\n",
    "    else:\n",
    "        print(\"Enter single charecter only\")\n",
    "        \n",
    "str2_inp = str(input(\"Enter a charecter : \"))\n",
    "return_flag(str2_inp)"
   ]
  }
 ],
 "metadata": {
  "kernelspec": {
   "display_name": "Python 3",
   "language": "python",
   "name": "python3"
  },
  "language_info": {
   "codemirror_mode": {
    "name": "ipython",
    "version": 3
   },
   "file_extension": ".py",
   "mimetype": "text/x-python",
   "name": "python",
   "nbconvert_exporter": "python",
   "pygments_lexer": "ipython3",
   "version": "3.7.4"
  }
 },
 "nbformat": 4,
 "nbformat_minor": 2
}
