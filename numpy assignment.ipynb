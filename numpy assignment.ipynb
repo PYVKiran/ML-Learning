{
 "cells": [
  {
   "cell_type": "markdown",
   "metadata": {},
   "source": [
    "# Write a function so that the columns of the output matrix are powers of the input vector.\n",
    "The order of the powers is determined by the increasing boolean argument. Specifically, when\n",
    "increasing is False, the i-th output column is the input vector raised element-wise to the power\n",
    "of N - i - 1.\n",
    "HINT: Such a matrix with a geometric progression in each row is named for Alexandre-\n",
    "Theophile Vandermonde."
   ]
  },
  {
   "cell_type": "code",
   "execution_count": 3,
   "metadata": {},
   "outputs": [
    {
     "data": {
      "text/plain": [
       "array([[ 1,  1,  1,  1],\n",
       "       [ 8,  4,  2,  1],\n",
       "       [27,  9,  3,  1],\n",
       "       [64, 16,  4,  1],\n",
       "       [27,  9,  3,  1]])"
      ]
     },
     "execution_count": 3,
     "metadata": {},
     "output_type": "execute_result"
    }
   ],
   "source": [
    "import numpy as np\n",
    "np.vander([1,2,3,4,3],4)"
   ]
  },
  {
   "cell_type": "markdown",
   "metadata": {},
   "source": [
    "# Write a function to find moving average in an array over a window:\n",
    "Test it over [3, 5, 7, 2, 8, 10, 11, 65, 72, 81, 99, 100, 150] and window of 3."
   ]
  },
  {
   "cell_type": "code",
   "execution_count": 28,
   "metadata": {},
   "outputs": [
    {
     "name": "stdout",
     "output_type": "stream",
     "text": [
      "AVG of 1 window-3 : 5.0\n",
      "AVG of 2 window-3 : 4.666666666666667\n",
      "AVG of 3 window-3 : 5.666666666666667\n",
      "AVG of 4 window-3 : 6.666666666666667\n",
      "AVG of 5 window-3 : 9.666666666666666\n",
      "AVG of 6 window-3 : 28.666666666666668\n",
      "AVG of 7 window-3 : 49.333333333333336\n",
      "AVG of 8 window-3 : 72.66666666666667\n",
      "AVG of 9 window-3 : 84.0\n",
      "AVG of 10 window-3 : 93.33333333333333\n",
      "AVG of 11 window-3 : 116.33333333333333\n"
     ]
    }
   ],
   "source": [
    "def fnd_mv_avg(inp, window):\n",
    "    for i in range(len(inp)):\n",
    "        sum=0\n",
    "        if i<= len(inp)-window:\n",
    "            for j in range(window):\n",
    "                k=i+j\n",
    "                sum = sum + inp[k]\n",
    "            avg = sum/window\n",
    "            print(\"AVG of\", i+1 , \"window-3 : \" + str(avg))\n",
    "        \n",
    "inp_lst = [3, 5, 7, 2, 8, 10, 11, 65, 72, 81, 99, 100, 150]\n",
    "window = 3\n",
    "fnd_mv_avg(inp_lst, window)"
   ]
  },
  {
   "cell_type": "code",
   "execution_count": null,
   "metadata": {},
   "outputs": [],
   "source": []
  }
 ],
 "metadata": {
  "kernelspec": {
   "display_name": "Python 3",
   "language": "python",
   "name": "python3"
  },
  "language_info": {
   "codemirror_mode": {
    "name": "ipython",
    "version": 3
   },
   "file_extension": ".py",
   "mimetype": "text/x-python",
   "name": "python",
   "nbconvert_exporter": "python",
   "pygments_lexer": "ipython3",
   "version": "3.7.4"
  }
 },
 "nbformat": 4,
 "nbformat_minor": 2
}
